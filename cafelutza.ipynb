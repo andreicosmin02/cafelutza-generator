{
 "cells": [
  {
   "cell_type": "code",
   "execution_count": 2,
   "metadata": {},
   "outputs": [],
   "source": [
    "import requests as rq\n",
    "import json\n",
    "from PIL import Image, ImageDraw, ImageFont\n",
    "import io\n",
    "import random"
   ]
  },
  {
   "cell_type": "code",
   "execution_count": null,
   "metadata": {},
   "outputs": [],
   "source": [
    "def getQuotes(number):\n",
    "    f = open('quote.txt', 'w')\n",
    "    quote = ''\n",
    "    for i in range(number):\n",
    "        quotesWebsite = 'https://api.adviceslip.com/advice'\n",
    "        resp = rq.get(quotesWebsite)\n",
    "        quote += json.loads(resp.text)['slip']['advice']\n",
    "        quote += '\\n'\n",
    "        \n",
    "    print(quote)\n",
    "\n",
    "    f.write(quote)\n",
    "getQuotes(100)\n",
    "   "
   ]
  },
  {
   "cell_type": "code",
   "execution_count": 3,
   "metadata": {},
   "outputs": [],
   "source": [
    "def getCoffeeImage():\n",
    "    coffeeWebsite = 'https://coffee.alexflipnote.dev/random'\n",
    "    imageRequest = rq.get(coffeeWebsite)\n",
    "    image = Image.open(io.BytesIO(imageRequest.content))\n",
    "    return image\n"
   ]
  },
  {
   "cell_type": "code",
   "execution_count": 4,
   "metadata": {},
   "outputs": [],
   "source": [
    "def resizeImage(image):\n",
    "    width, height = image.size\n",
    "    newWidth = 1080\n",
    "    newHeight = int(height / width * newWidth)\n",
    "    \n",
    "    # print(newWidth, newHeight)\n",
    "    # print(width, height)\n",
    "    return(image.resize((newWidth, newHeight)))"
   ]
  },
  {
   "cell_type": "code",
   "execution_count": 5,
   "metadata": {},
   "outputs": [],
   "source": [
    "def getQuote():\n",
    "    with open('citate.txt', 'r+', encoding='utf-8') as f:\n",
    "        lines = f.readlines()\n",
    "    line = lines[random.randint(0, len(lines))]\n",
    "    line = line.replace('\\n', '')\n",
    "    line = line.split(' ')\n",
    "    quote = ''\n",
    "    w = 0\n",
    "    for word in line:\n",
    "        if w < 1060:\n",
    "            quote += word + ' '\n",
    "        else:\n",
    "            w = 0\n",
    "            quote += '\\n' + word + ' '\n",
    "        w += len(word) * 100\n",
    "    return quote"
   ]
  },
  {
   "cell_type": "code",
   "execution_count": 6,
   "metadata": {},
   "outputs": [],
   "source": [
    "def createImage(image, text, path):\n",
    "    quoteImage = ImageDraw.Draw(image, 'RGBA')\n",
    "    width, height =  image.size\n",
    "    shape = [(0, 0), (width, height)]\n",
    "    quoteImage.rectangle(shape, fill=(0, 0, 0, 125))\n",
    "\n",
    "    myFont = ImageFont.truetype('KGSecondChancesSketch.ttf', 80)\n",
    "    quoteImage.text((20, 20), text, font = myFont)\n",
    "    image.save(path)"
   ]
  },
  {
   "cell_type": "code",
   "execution_count": null,
   "metadata": {},
   "outputs": [],
   "source": [
    "for i in range(25):\n",
    "    try:\n",
    "        coffeeImage = getCoffeeImage()\n",
    "        coffeeImage = resizeImage(coffeeImage)\n",
    "        quote = getQuote()\n",
    "        createImage(coffeeImage, quote, f'rezultat/rezultat{i}.png')\n",
    "    except:\n",
    "        print(f'exceptie la generare poza {i}')"
   ]
  },
  {
   "cell_type": "code",
   "execution_count": 7,
   "metadata": {},
   "outputs": [
    {
     "name": "stdout",
     "output_type": "stream",
     "text": [
      "exceptie la generare poza {number}, incerc iar\n"
     ]
    }
   ],
   "source": [
    "with open('citateurate.txt', 'r', encoding='utf-8') as f:\n",
    "    lines = f.readlines()\n",
    "number = 0\n",
    "for line in lines:\n",
    "    try:\n",
    "        coffeeImage = getCoffeeImage()\n",
    "        coffeeImage = resizeImage(coffeeImage)\n",
    "        line = line.replace('\\n', '')\n",
    "        line = line.split(' ')\n",
    "        quote = ''\n",
    "        w = 0\n",
    "        for word in line:\n",
    "            if w < 1060:\n",
    "                quote += word + ' '\n",
    "            else:\n",
    "                w = 0\n",
    "                quote += '\\n' + word + ' '\n",
    "            w += len(word) * 90\n",
    "        createImage(coffeeImage, quote, f'rezultaturat/rezultat{number}.png')\n",
    "        number -= -1\n",
    "    except:\n",
    "        print(f'exceptie la generare poza {number}, incerc iar')"
   ]
  }
 ],
 "metadata": {
  "kernelspec": {
   "display_name": "Python 3.10.5 64-bit",
   "language": "python",
   "name": "python3"
  },
  "language_info": {
   "codemirror_mode": {
    "name": "ipython",
    "version": 3
   },
   "file_extension": ".py",
   "mimetype": "text/x-python",
   "name": "python",
   "nbconvert_exporter": "python",
   "pygments_lexer": "ipython3",
   "version": "3.10.5"
  },
  "orig_nbformat": 4,
  "vscode": {
   "interpreter": {
    "hash": "26de051ba29f2982a8de78e945f0abaf191376122a1563185a90213a26c5da77"
   }
  }
 },
 "nbformat": 4,
 "nbformat_minor": 2
}
